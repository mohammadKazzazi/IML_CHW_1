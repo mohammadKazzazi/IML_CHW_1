{
 "cells": [
  {
   "cell_type": "markdown",
   "id": "5f42a3ce",
   "metadata": {},
   "source": [
    "<h1 align=\"center\">Introduction to Machine Learning - 25737-2</h1>\n",
    "<h4 align=\"center\">Dr. R. Amiri</h4>\n",
    "<h4 align=\"center\">Sharif University of Technology, Spring 2024</h4>\n",
    "\n",
    "\n",
    "**<font color='red'>Plagiarism is strongly prohibited!</font>**\n",
    "\n",
    "\n",
    "**Student Name**: Seyed Mohammad Ojagh Kazzazi\n",
    "\n",
    "**Student ID**: 400100554\n",
    "\n",
    "\n",
    "\n"
   ]
  },
  {
   "cell_type": "markdown",
   "id": "a01c559e",
   "metadata": {},
   "source": [
    "## Importing Libraries\n",
    "\n",
    "First we import libraries that we need for this assignment."
   ]
  },
  {
   "cell_type": "code",
   "execution_count": 184,
   "id": "0423187e",
   "metadata": {},
   "outputs": [],
   "source": [
    "# import any other libraries needed below\n",
    "import numpy as np\n",
    "import pandas as pd\n",
    "import matplotlib.pyplot as plt\n",
    "from sklearn.model_selection import train_test_split\n",
    "from sklearn.naive_bayes import GaussianNB\n",
    "from sklearn.metrics import accuracy_score\n",
    "from sklearn.discriminant_analysis import LinearDiscriminantAnalysis"
   ]
  },
  {
   "cell_type": "markdown",
   "id": "2f795731",
   "metadata": {},
   "source": [
    "## Reading Data and Preprocessing\n",
    "\n",
    "In this section, we want to read data from a CSV file and then preprocess it to make it ready for the rest of the problem.\n",
    "\n",
    "First, we read the data in the cell below and extract an $m \\times n$ matrix, $X$, and an $m \\times 1$ vector, $Y$, from it, which represent our knowledge about the features of the data (`X1`, `X2`, `X3`) and the class (`Y`), respectively. Note that by $m$, we mean the number of data points and by $n$, we mean the number of features."
   ]
  },
  {
   "cell_type": "code",
   "execution_count": 185,
   "id": "410e750d",
   "metadata": {},
   "outputs": [
    {
     "name": "stdout",
     "output_type": "stream",
     "text": [
      "(10000, 3)\n",
      "(10000,)\n"
     ]
    }
   ],
   "source": [
    "# Read the CSV file into a DataFrame\n",
    "data = pd.read_csv('Q3/data_logistic.csv')\n",
    "\n",
    "# Extract the feature matrix X and target vector Y\n",
    "X = data[['X1', 'X2', 'X3']]\n",
    "Y = data['Y']\n",
    "\n",
    "print(X.shape)\n",
    "print(Y.shape)"
   ]
  },
  {
   "cell_type": "markdown",
   "id": "866734e2",
   "metadata": {},
   "source": [
    "Next, we should normalize our data. For normalizing a vector $\\mathbf{x}$, a very common method is to use this formula:\n",
    "\n",
    "$$\n",
    "\\mathbf{x}_{norm} = \\dfrac{\\mathbf{x} - \\overline{\\mathbf{x}}}{\\sigma_\\mathbf{x}}\n",
    "$$\n",
    "\n",
    "Here, $\\overline{x}$ and $\\sigma_\\mathbf{x}$ denote the mean and standard deviation of vector $\\mathbf{x}$, respectively. Use this formula and store the new $X$ and $Y$ vectors in the cell below.\n",
    "\n",
    "**Question**: Briefly explain why we need to normalize our data before starting the training.\n",
    "\n",
    "**Answer**:"
   ]
  },
  {
   "cell_type": "markdown",
   "id": "3ec55037",
   "metadata": {},
   "source": [
    "Normalization is an important step in preprocessing because it scales the data to a standard range. This is particularly important when the features have different scales, units or ranges. By normalizing, we ensure that each feature contributes approximately proportionately to the final distance.\n",
    "\n",
    "Another reason is that many machine learning algorithms (like gradient descent) converge faster when features are on a similar scale."
   ]
  },
  {
   "cell_type": "code",
   "execution_count": 186,
   "id": "9e757eb0",
   "metadata": {},
   "outputs": [],
   "source": [
    "X_normalized = (X - np.mean(X , axis=0)) / np.std(X , axis=0)\n"
   ]
  },
  {
   "cell_type": "markdown",
   "id": "5465bfa4",
   "metadata": {},
   "source": [
    "Finally, we should add a column of $1$s at the beginning of $X$ to represent the bias term. Do this in the next cell. Note that after this process, $X$ should be an $m \\times (n+1)$ matrix."
   ]
  },
  {
   "cell_type": "code",
   "execution_count": 187,
   "id": "b9a60f1f",
   "metadata": {},
   "outputs": [
    {
     "name": "stdout",
     "output_type": "stream",
     "text": [
      "(10000, 4)\n"
     ]
    }
   ],
   "source": [
    "### START CODE HERE ###\n",
    "X = np.hstack((np.ones((X_normalized.shape[0], 1)), X_normalized))\n",
    "### END CODE HERE ###\n",
    "\n",
    "print(X.shape)"
   ]
  },
  {
   "cell_type": "code",
   "execution_count": 188,
   "id": "d0aeeae0",
   "metadata": {},
   "outputs": [
    {
     "data": {
      "text/plain": [
       "array([[ 1.        , -1.00066149, -0.60536985, -0.85021999],\n",
       "       [ 1.        , -1.45366949,  1.73051062, -0.20238503],\n",
       "       [ 1.        ,  0.26239007,  1.69140966,  0.64234794],\n",
       "       ...,\n",
       "       [ 1.        ,  1.35418019, -0.1188587 ,  1.41249602],\n",
       "       [ 1.        ,  1.41727838,  0.76498604,  0.94404812],\n",
       "       [ 1.        ,  0.79312016,  1.49592029,  0.85670437]])"
      ]
     },
     "execution_count": 188,
     "metadata": {},
     "output_type": "execute_result"
    }
   ],
   "source": [
    "X"
   ]
  },
  {
   "cell_type": "markdown",
   "id": "5cdf0d78",
   "metadata": {},
   "source": [
    "## Training Model"
   ]
  },
  {
   "cell_type": "markdown",
   "id": "c8714abe",
   "metadata": {},
   "source": [
    "### Sigmoid Function\n",
    "You should begin by implementing the $\\sigma(\\mathbf{x})$ function. Recall that the logistic regression hypothesis $\\mathcal{h}()$ is defined as:\n",
    "$$\n",
    "\\mathcal{h}_{\\theta}(\\mathbf{x}) = \\mathcal{g}(\\theta^\\mathbf{T}\\mathbf{x})\n",
    "$$\n",
    "where $\\mathcal{g}()$ is the sigmoid function as:\n",
    "$$\n",
    "\\mathcal{g}(\\mathbf{z}) = \\frac{1}{1+exp^{-\\mathbf{z}}}\n",
    "$$\n",
    "The Sigmoid function has the property that $\\mathbf{g}(+\\infty)\\approx 1$ and $\\mathcal{g}(−\\infty)\\approx0$. Test your function by calling `sigmoid(z)` on different test samples. Be certain that your sigmoid function works with both vectors and matrices - for either a vector or a matrix, your function should perform the sigmoid function on every element."
   ]
  },
  {
   "cell_type": "code",
   "execution_count": 189,
   "id": "6a6b6ae4",
   "metadata": {},
   "outputs": [],
   "source": [
    "def sigmoid(Z):\n",
    "    '''\n",
    "    Applies the sigmoid function on every element of Z\n",
    "    Arguments:\n",
    "        Z can be a (n,) vector or (n , m) matrix\n",
    "    Returns:\n",
    "        A vector/matrix, same shape with Z, that has the sigmoid function applied elementwise\n",
    "    '''\n",
    "    return 1 / (1 + np.exp(-Z))\n"
   ]
  },
  {
   "cell_type": "code",
   "execution_count": 190,
   "id": "838e49f4",
   "metadata": {},
   "outputs": [
    {
     "name": "stdout",
     "output_type": "stream",
     "text": [
      "0.5\n",
      "[0.26894142 0.5        0.73105858]\n",
      "[[0.5        0.73105858]\n",
      " [0.26894142 0.88079708]]\n"
     ]
    }
   ],
   "source": [
    "# Test with a scalar\n",
    "print(sigmoid(0))  # Expected output: 0.5\n",
    "\n",
    "# Test with a 1D numpy array\n",
    "print(sigmoid(np.array([-1, 0, 1])))  # Expected output: array([0.26894142, 0.5       , 0.73105858])\n",
    "\n",
    "# Test with a 2D numpy array\n",
    "print(sigmoid(np.array([[0, 1], [-1, 2]])))  # Expected output: array([[0.5       , 0.73105858], [0.26894142, 0.88079708]])"
   ]
  },
  {
   "cell_type": "markdown",
   "id": "83846074",
   "metadata": {},
   "source": [
    "### Cost Function \n",
    "Implement the functions to compute the cost function. Recall the cost function for logistic regression is a scalar value given by:\n",
    "$$\n",
    "\\mathcal{J}(\\theta) = \\sum_{i=1}^{n}[-y^{(i)}\\log{(\\mathcal{h}_\\theta(\\mathbf{x}^{(i)}))}-(1-y^{(i)})\\log{(1-\\mathcal{h}_\\theta(\\mathbf{x}^{(i)}))}] + \\frac{\\lambda}{2}||\\theta||_2^2\n",
    "$$"
   ]
  },
  {
   "cell_type": "code",
   "execution_count": 191,
   "id": "26a9bdeb",
   "metadata": {},
   "outputs": [],
   "source": [
    "def computeCost(theta, X, y, regLambda):\n",
    "    '''\n",
    "    Computes the objective function\n",
    "    Arguments:\n",
    "        theta is d-dimensional numpy vector\n",
    "        X is a n-by-d numpy matrix\n",
    "        y is an n-dimensional numpy vector\n",
    "        regLambda is the scalar regularization constant\n",
    "    Returns:\n",
    "        a scalar value of the cost\n",
    "    '''\n",
    "    \n",
    "    m, n = X.shape\n",
    "    h = sigmoid(np.dot(X ,theta))\n",
    "    term1 = y * np.log(h)\n",
    "    term2 = (1 - y) * np.log(1 - h)\n",
    "    regularization = (regLambda / 2) * np.sum(np.square(theta))\n",
    "    loss = -np.sum(term1 + term2) / m + regularization\n",
    "    return loss\n",
    "\n"
   ]
  },
  {
   "cell_type": "markdown",
   "id": "6eaf1146",
   "metadata": {},
   "source": [
    "### Gradient of the Cost Function\n",
    "Now, we want to calculate the gradient of the cost function. The gradient of the cost function is a d-dimensional vector.\\\n",
    "We must be careful not to regularize the $\\theta_0$ parameter (corresponding to the first feature we add to each instance), and so the 0's element is given by:\n",
    "$$\n",
    "\\frac{\\partial \\mathcal{J}(\\theta)}{\\partial \\theta_0} = \\sum_{i=1}^n (\\mathcal{h}_\\theta(\\mathbf{x}^{(i)})-y^{(i)})\n",
    "$$\n",
    "\n",
    "Question: What is the answer to this problem for the $j^{th}$ element (for $j=1...d$)?\n",
    "\n",
    "Answer:\n",
    "\n",
    "The gradient of the cost function for the $j^{th}$ element (for $j=1...d$) is given by:\n",
    "\n",
    "$$\n",
    "\\frac{\\partial \\mathcal{J}(\\theta)}{\\partial \\theta_j} = \\frac{1}{m} \\sum_{i=1}^{m} (h_\\theta(x^{(i)}) - y^{(i)})x_j^{(i)} + \\frac{\\lambda}{m}\\theta_j\n",
    "$$\n",
    "\n",
    "This formula is similar to the one for the $0^{th}$ element, but with an additional term $\\frac{\\lambda}{m}\\theta_j$ for regularization. This term helps to prevent overfitting by penalizing large values of $\\theta_j$. Note that this regularization term is not applied to $\\theta_0$."
   ]
  },
  {
   "cell_type": "code",
   "execution_count": 192,
   "id": "cac62f9a",
   "metadata": {},
   "outputs": [],
   "source": [
    "def computeGradient(theta, X, y, regLambda):\n",
    "    '''\n",
    "    Computes the gradient of the objective function\n",
    "    Arguments:\n",
    "        theta is d-dimensional numpy vector\n",
    "        X is a n-by-d numpy matrix\n",
    "        y is an n-dimensional numpy vector\n",
    "        regLambda is the scalar regularization constant\n",
    "    Returns:\n",
    "        the gradient, an d-dimensional vector\n",
    "    '''\n",
    "    \n",
    "    m, n = X.shape\n",
    "    h = sigmoid(np.dot(X, theta))\n",
    "    \n",
    "    # Compute the gradient\n",
    "    grad = (1 / m) * np.dot(X.T, (h - y)) + (regLambda / m) * theta\n",
    "    \n",
    "    # Do not regularize the first element (theta_0)\n",
    "    grad[0] = (1 / m) * np.dot(X[:, 0], (h - y))\n",
    "    \n",
    "    return grad"
   ]
  },
  {
   "cell_type": "markdown",
   "id": "24bc86bd",
   "metadata": {},
   "source": [
    "### Training and Prediction\n",
    "Once you have the cost and gradient functions complete, implement the fit and predict methods.\\\n",
    "Your fit method should train the model via gradient descent, relying on the cost and gradient functions. This function should return two parameters. The first parameter is $\\theta$, and the second parameter is a `numpy` array that contains the loss in each iteration. This array is indicated by `loss_history` in the code.\\\n",
    "Instead of simply running gradient descent for a specific number of iterations, we will use a more sophisticated method: we will stop it after the solution hasconverged. Stop the gradient descent procedure when $\\theta$ stops changing between consecutive iterations. You can detect this convergence when:\n",
    "$$\n",
    "||\\theta_{new}-\\theta_{old}||_2 <= \\epsilon,\n",
    "$$\n",
    "for some small $\\epsilon$ (e.g, $\\epsilon=10E-4$).\\\n",
    "For readability, we’d recommend implementing this convergence test as a dedicated function `hasConverged`."
   ]
  },
  {
   "cell_type": "code",
   "execution_count": 193,
   "id": "cc0cad78",
   "metadata": {},
   "outputs": [],
   "source": [
    "def fit(X, y, regLambda = 0.01, alpha = 0.01, epsilon = 1e-4, maxNumIters = 100):\n",
    "    '''\n",
    "    Trains the model\n",
    "    Arguments:\n",
    "        X           is a n-by-d numpy matrix\n",
    "        y           is an n-dimensional numpy vector\n",
    "        maxNumIters is the maximum number of gradient descent iterations\n",
    "        regLambda   is the scalar regularization constant\n",
    "        epsilon     is the convergence rate\n",
    "        alpha       is the gradient descent learning rate\n",
    "    '''\n",
    "    \n",
    "    m, n = X.shape\n",
    "    theta = np.zeros(n)\n",
    "    loss_history = []\n",
    "\n",
    "    for _ in range(maxNumIters):\n",
    "        gradient = computeGradient(theta, X, y, regLambda)\n",
    "        new_theta = theta - alpha * gradient\n",
    "\n",
    "        if hasConverged(theta, new_theta, epsilon):\n",
    "            break\n",
    "\n",
    "        theta = new_theta\n",
    "        loss_history.append(computeCost(theta, X, y, regLambda))\n",
    "\n",
    "    return theta, np.array(loss_history)\n",
    "\n",
    "\n",
    "def hasConverged(theta_old, theta_new, epsilon):\n",
    "    '''\n",
    "    Return if the theta converged or not\n",
    "    Arguments:\n",
    "        theta_old   is the theta calculated in prevoius iteration\n",
    "        theta_new   is the theta calculated in current iteration\n",
    "        epsilon     is the convergence rate\n",
    "    '''\n",
    "    \n",
    "    return np.sqrt(np.sum((theta_new - theta_old)**2)) <= epsilon"
   ]
  },
  {
   "cell_type": "markdown",
   "id": "bb648852",
   "metadata": {},
   "source": [
    "Finally, we want to evaluate our loss for this problem. Complete the cell below to calculate and print the loss of each iteration and the final theta of your model."
   ]
  },
  {
   "cell_type": "code",
   "execution_count": 194,
   "id": "252e556f",
   "metadata": {},
   "outputs": [
    {
     "name": "stdout",
     "output_type": "stream",
     "text": [
      "Final model parameters (theta):\n",
      "[ 0.14721272 -0.21750811  0.23679233  0.07455652]\n",
      "\n",
      "Loss at each iteration:\n",
      "Iteration 0: 0.691486988340543\n",
      "Iteration 1: 0.6898353250903184\n",
      "Iteration 2: 0.6881921471981215\n",
      "Iteration 3: 0.6865574110987143\n",
      "Iteration 4: 0.6849310732766268\n",
      "Iteration 5: 0.68331309026995\n",
      "Iteration 6: 0.6817034186740645\n",
      "Iteration 7: 0.680102015145306\n",
      "Iteration 8: 0.6785088364045683\n",
      "Iteration 9: 0.6769238392408417\n",
      "Iteration 10: 0.6753469805146889\n",
      "Iteration 11: 0.6737782171616564\n",
      "Iteration 12: 0.6722175061956249\n",
      "Iteration 13: 0.6706648047120923\n",
      "Iteration 14: 0.6691200698913975\n",
      "Iteration 15: 0.6675832590018788\n",
      "Iteration 16: 0.6660543294029714\n",
      "Iteration 17: 0.6645332385482391\n",
      "Iteration 18: 0.6630199439883467\n",
      "Iteration 19: 0.6615144033739688\n",
      "Iteration 20: 0.6600165744586352\n",
      "Iteration 21: 0.658526415101517\n",
      "Iteration 22: 0.6570438832701506\n",
      "Iteration 23: 0.6555689370430983\n",
      "Iteration 24: 0.6541015346125519\n",
      "Iteration 25: 0.6526416342868725\n",
      "Iteration 26: 0.6511891944930719\n",
      "Iteration 27: 0.6497441737792342\n",
      "Iteration 28: 0.6483065308168786\n",
      "Iteration 29: 0.646876224403261\n",
      "Iteration 30: 0.6454532134636207\n",
      "Iteration 31: 0.6440374570533659\n",
      "Iteration 32: 0.6426289143602052\n",
      "Iteration 33: 0.6412275447062179\n",
      "Iteration 34: 0.6398333075498714\n",
      "Iteration 35: 0.6384461624879818\n",
      "Iteration 36: 0.6370660692576168\n",
      "Iteration 37: 0.6356929877379471\n",
      "Iteration 38: 0.6343268779520418\n",
      "Iteration 39: 0.6329677000686089\n",
      "Iteration 40: 0.6316154144036846\n",
      "Iteration 41: 0.6302699814222693\n",
      "Iteration 42: 0.6289313617399099\n",
      "Iteration 43: 0.6275995161242338\n",
      "Iteration 44: 0.6262744054964293\n",
      "Iteration 45: 0.6249559909326766\n",
      "Iteration 46: 0.6236442336655292\n",
      "Iteration 47: 0.6223390950852465\n",
      "Iteration 48: 0.6210405367410776\n",
      "Iteration 49: 0.619748520342498\n",
      "Iteration 50: 0.6184630077603972\n",
      "Iteration 51: 0.6171839610282225\n",
      "Iteration 52: 0.6159113423430748\n",
      "Iteration 53: 0.6146451140667608\n",
      "Iteration 54: 0.6133852387267981\n",
      "Iteration 55: 0.6121316790173797\n",
      "Iteration 56: 0.6108843978002928\n",
      "Iteration 57: 0.6096433581057952\n",
      "Iteration 58: 0.6084085231334505\n",
      "Iteration 59: 0.6071798562529215\n",
      "Iteration 60: 0.6059573210047234\n",
      "Iteration 61: 0.6047408811009354\n",
      "Iteration 62: 0.6035305004258753\n",
      "Iteration 63: 0.6023261430367333\n",
      "Iteration 64: 0.6011277731641681\n",
      "Iteration 65: 0.599935355212867\n",
      "Iteration 66: 0.5987488537620669\n",
      "Iteration 67: 0.5975682335660413\n",
      "Iteration 68: 0.5963934595545503\n",
      "Iteration 69: 0.595224496833256\n",
      "Iteration 70: 0.5940613106841041\n",
      "Iteration 71: 0.5929038665656718\n",
      "Iteration 72: 0.5917521301134823\n",
      "Iteration 73: 0.5906060671402865\n",
      "Iteration 74: 0.5894656436363153\n",
      "Iteration 75: 0.5883308257694971\n",
      "Iteration 76: 0.5872015798856479\n",
      "Iteration 77: 0.58607787250863\n",
      "Iteration 78: 0.5849596703404818\n",
      "Iteration 79: 0.5838469402615188\n",
      "Iteration 80: 0.5827396493304061\n",
      "Iteration 81: 0.5816377647842045\n",
      "Iteration 82: 0.5805412540383879\n",
      "Iteration 83: 0.579450084686836\n",
      "Iteration 84: 0.5783642245018012\n",
      "Iteration 85: 0.577283641433848\n",
      "Iteration 86: 0.5762083036117706\n",
      "Iteration 87: 0.5751381793424843\n",
      "Iteration 88: 0.5740732371108951\n",
      "Iteration 89: 0.5730134455797448\n",
      "Iteration 90: 0.5719587735894338\n",
      "Iteration 91: 0.5709091901578236\n",
      "Iteration 92: 0.5698646644800152\n",
      "Iteration 93: 0.5688251659281083\n",
      "Iteration 94: 0.5677906640509411\n",
      "Iteration 95: 0.5667611285738074\n",
      "Iteration 96: 0.5657365293981566\n",
      "Iteration 97: 0.5647168366012731\n",
      "Iteration 98: 0.5637020204359408\n",
      "Iteration 99: 0.5626920513300836\n"
     ]
    }
   ],
   "source": [
    "# Assuming X and Y are your data and labels respectively\n",
    "\n",
    "theta, loss_history = fit(X, Y)\n",
    "\n",
    "# Print the final model parameters\n",
    "print(\"Final model parameters (theta):\")\n",
    "print(theta)\n",
    "\n",
    "# Print the loss at each iteration\n",
    "print(\"\\nLoss at each iteration:\")\n",
    "for i, loss in enumerate(loss_history):\n",
    "    print(f\"Iteration {i}: {loss}\")"
   ]
  },
  {
   "cell_type": "markdown",
   "id": "f4b3fab6",
   "metadata": {},
   "source": [
    "### Testing Your Implementation\n",
    "To test your logistic regression implementation, first you should use `train_test_split` function to split dataset into three parts:\n",
    "\n",
    "- 70% for the training set\n",
    "- 20% for the validation set\n",
    "- 10% for the test set\n",
    "\n",
    "Do this in the cell below."
   ]
  },
  {
   "cell_type": "code",
   "execution_count": 195,
   "id": "4518fe11",
   "metadata": {},
   "outputs": [
    {
     "name": "stdout",
     "output_type": "stream",
     "text": [
      "Training set size: 7000\n",
      "Validation set size: 2000\n",
      "Test set size: 1000\n"
     ]
    }
   ],
   "source": [
    "# Assuming data is your DataFrame and labels are your target values\n",
    "data, labels = X, Y\n",
    "\n",
    "# Split the data into training and temporary sets\n",
    "X_train, X_temp, Y_train, Y_temp = train_test_split(data, labels, test_size=0.3, random_state=42)\n",
    "\n",
    "# Further split the temporary set into test and validation sets\n",
    "X_val, X_test, Y_val, Y_test = train_test_split(X_temp, Y_temp, test_size=1/3, random_state=42)\n",
    "\n",
    "print(\"Training set size:\", X_train.shape[0])\n",
    "print(\"Validation set size:\", X_val.shape[0])\n",
    "print(\"Test set size:\", X_test.shape[0])"
   ]
  },
  {
   "cell_type": "markdown",
   "id": "f9fbe5d7",
   "metadata": {},
   "source": [
    "Then, you should complete `predict` function to find the weight vector and the loss on the test data."
   ]
  },
  {
   "cell_type": "code",
   "execution_count": 196,
   "id": "95c2fe20",
   "metadata": {},
   "outputs": [],
   "source": [
    "def predict(X, theta):\n",
    "    '''\n",
    "    Use the model to predict values for each instance in X\n",
    "    Arguments:\n",
    "        theta is d-dimensional numpy vector\n",
    "        X     is a n-by-d numpy matrix\n",
    "    Returns:\n",
    "        an n-dimensional numpy vector of the predictions, the output should be binary (use h_theta > .5)\n",
    "    '''\n",
    "    \n",
    "    # Compute the hypothesis\n",
    "    h = sigmoid(np.dot(X, theta))\n",
    "    \n",
    "    # Convert the hypothesis to binary predictions\n",
    "    Y = (h > 0.5).astype(int)\n",
    "    \n",
    "    return Y"
   ]
  },
  {
   "cell_type": "markdown",
   "id": "246d1c02",
   "metadata": {},
   "source": [
    "Now, run the `fit` and `predict` function for different values of the learning rate and regularization constant. Plot the `loss_history` of these different values for train and test data both in the same figure.\n",
    "\n",
    "**Question**: Discuss the effect of the learning rate and regularization constant and find the best values of these parameters."
   ]
  },
  {
   "cell_type": "markdown",
   "id": "46b45e39",
   "metadata": {},
   "source": [
    "<div style=\"color:pink;\">\n",
    "\n",
    "**Answer**:\n",
    "\n",
    "\n",
    "1. **Learning Rate**: The learning rate controls how much the model parameters are updated at each step of the gradient descent algorithm. A high learning rate can cause the model to converge quickly, but it may also overshoot the optimal solution and diverge. A low learning rate can ensure that the model does not miss the optimal solution, but it may cause the model to converge slowly. Therefore, it's important to choose a learning rate that's neither too high nor too low. In the plot, different learning rates will affect the speed at which the loss decreases.\n",
    "\n",
    "2. **Regularization Constant**: The regularization constant controls the amount of regularization in the model. Regularization is a technique used to prevent overfitting by adding a penalty to the loss function. A high regularization constant increases the penalty and thus reduces the complexity of the model, which can help to prevent overfitting but may also lead to underfitting. A low regularization constant reduces the penalty and thus allows the model to have higher complexity, which can fit the training data better but may also lead to overfitting. In the plot, different regularization constants will affect the final value of the loss.\n",
    "\n",
    "To find the best values of these parameters, you can use techniques like grid search or random search, where you try different combinations of the parameters and choose the one that gives the best performance on the validation set. In the plot, the combination of learning rate and regularization constant that results in the lowest loss on the test set would be the best values of these parameters.\n",
    "\n",
    "</div>"
   ]
  },
  {
   "cell_type": "code",
   "execution_count": 197,
   "id": "3b653238",
   "metadata": {},
   "outputs": [
    {
     "data": {
      "image/png": "[encoded data removed]",
      "text/plain": [
       "<Figure size 1200x800 with 1 Axes>"
      ]
     },
     "metadata": {},
     "output_type": "display_data"
    }
   ],
   "source": [
    "# Define the learning rates and regularization constants to try\n",
    "learning_rates = [0.001, 0.01, 0.1]\n",
    "reg_constants = [0.001, 0.01]\n",
    "\n",
    "\n",
    "# Initialize a figure\n",
    "plt.figure(figsize=(12, 8))\n",
    "\n",
    "# Initialize a list to store the final loss of each loss history\n",
    "final_losses = []\n",
    "\n",
    "# Loop over the learning rates and regularization constants\n",
    "for alpha in learning_rates:\n",
    "    for regLambda in reg_constants:\n",
    "        # Train the model and get the loss history\n",
    "        theta, loss_history = fit(X_train, Y_train, regLambda, alpha)\n",
    "        \n",
    "        # Store the final loss in final_losses\n",
    "        if loss_history.size:  # Check if loss_history is not empty\n",
    "            final_losses.append(loss_history[-1])\n",
    "        \n",
    "        # Predict the labels for the test set\n",
    "        y_pred = predict(X_val, theta)\n",
    "        \n",
    "        # Compute the loss for the test set\n",
    "        test_loss = computeCost(theta, X_test, Y_test, regLambda)\n",
    "        \n",
    "\n",
    "        plt.axhline(test_loss, color='red', linestyle='--')\n",
    "\n",
    "        # Plot the loss history\n",
    "        plt.plot(loss_history, label=f'alpha={alpha}, lambda={regLambda}, test loss ={test_loss}')\n",
    "\n",
    "# Compute the global minimum and maximum final loss\n",
    "if final_losses:  # Check if final_losses is not empty\n",
    "    global_min_loss = min(final_losses)\n",
    "    global_max_loss = max(final_losses)\n",
    "\n",
    "# Add labels and a legend\n",
    "plt.xlabel('Iteration')\n",
    "plt.ylabel('History Loss')\n",
    "plt.legend()\n",
    "plt.grid(True)\n",
    "plt.show()"
   ]
  },
  {
   "cell_type": "markdown",
   "id": "11babf15",
   "metadata": {},
   "source": [
    "## Naive Bayes\n",
    "\n",
    "In this part, you will use the `GaussianNB` classifier to classify the data. You should not change the default parameters of this classifier. First, train the classifier on the training set and then find the accuracy of it on the test set.\n",
    "\n",
    "**Question**: What is the accuracy of this method on test set?\n",
    "\n",
    "**Answer**:"
   ]
  },
  {
   "cell_type": "code",
   "execution_count": 198,
   "id": "1ef450fb",
   "metadata": {},
   "outputs": [
    {
     "name": "stdout",
     "output_type": "stream",
     "text": [
      "The accuracy of the GaussianNB classifier on the test set is: 0.929\n"
     ]
    }
   ],
   "source": [
    "# Create a GaussianNB object\n",
    "gnb = GaussianNB()\n",
    "\n",
    "# Fit the model to the training data\n",
    "gnb.fit(X_train, Y_train)\n",
    "\n",
    "# Predict the labels for the test data\n",
    "Y_pred = gnb.predict(X_test)\n",
    "\n",
    "# Compute the accuracy of the model\n",
    "accuracy = accuracy_score(Y_test, Y_pred)\n",
    "\n",
    "print(f'The accuracy of the GaussianNB classifier on the test set is: {accuracy}')"
   ]
  },
  {
   "cell_type": "markdown",
   "id": "b371657d",
   "metadata": {},
   "source": [
    "## LDA (Linear Discriminant Analysis)\n",
    "\n",
    "In this part, you will use the `LinearDiscriminantAnalysis` classifier to classify the data. You should not change the default parameters of this classifier. First, train the classifier on the training set and then find the accuracy of it on the test set.\n",
    "\n",
    "**Question**: What is the accuracy of this method on test set?\n",
    "\n",
    "**Answer**:"
   ]
  },
  {
   "cell_type": "code",
   "execution_count": 199,
   "id": "92cc8743",
   "metadata": {},
   "outputs": [
    {
     "name": "stdout",
     "output_type": "stream",
     "text": [
      "The accuracy of the LDA classifier on the test set is: 0.985\n"
     ]
    }
   ],
   "source": [
    "# Create a LinearDiscriminantAnalysis object\n",
    "lda = LinearDiscriminantAnalysis()\n",
    "\n",
    "# Fit the model to the training data\n",
    "lda.fit(X_train, Y_train)\n",
    "\n",
    "# Predict the labels for the test data\n",
    "Y_pred = lda.predict(X_test)\n",
    "\n",
    "# Compute the accuracy of the model\n",
    "accuracy = accuracy_score(Y_test, Y_pred)\n",
    "\n",
    "print(f'The accuracy of the LDA classifier on the test set is: {accuracy}')"
   ]
  },
  {
   "cell_type": "markdown",
   "id": "47736bdf",
   "metadata": {},
   "source": [
    "## Conclution\n",
    "\n",
    "**Question**: What is the best method for classifying this dataset? What is the best accuracy on the test set?\n",
    "\n",
    "**Answer**: Best method is LDA, with accuracy = 0.985"
   ]
  }
 ],
 "metadata": {
  "kernelspec": {
   "display_name": "Python 3 (ipykernel)",
   "language": "python",
   "name": "python3"
  },
  "language_info": {
   "codemirror_mode": {
    "name": "ipython",
    "version": 3
   },
   "file_extension": ".py",
   "mimetype": "text/x-python",
   "name": "python",
   "nbconvert_exporter": "python",
   "pygments_lexer": "ipython3",
   "version": "3.12.3"
  }
 },
 "nbformat": 4,
 "nbformat_minor": 5
}
