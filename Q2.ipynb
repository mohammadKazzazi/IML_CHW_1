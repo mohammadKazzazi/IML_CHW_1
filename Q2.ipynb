{
  "cells": [
    {
      "cell_type": "markdown",
      "metadata": {
        "id": "ChC3RF8meAlK"
      },
      "source": [
        "<h1 align=\"center\">Introduction to Machine Learning - 25737-2</h1>\n",
        "<h4 align=\"center\">Dr. R. Amiri</h4>\n",
        "<h4 align=\"center\">Sharif University of Technology, Spring 2024</h4>\n",
        "\n",
        "\n",
        "**<font color='red'>Plagiarism is strongly prohibited!</font>**\n",
        "\n",
        "\n",
        "**Student Name**: Seyed Mohammad Ojagh kazazi\n",
        "\n",
        "**Student ID**: 400100554\n",
        "\n",
        "\n",
        "\n"
      ]
    },
    {
      "cell_type": "markdown",
      "metadata": {
        "id": "IraiR0SbeDi_"
      },
      "source": [
        "# Logistic Regression"
      ]
    },
    {
      "cell_type": "code",
      "execution_count": 2,
      "metadata": {},
      "outputs": [],
      "source": [
        "# all libraries are imported\n",
        "import numpy as np # type: ignore\n",
        "import pandas as pd # type: ignore\n",
        "from sklearn.model_selection import train_test_split # type: ignore\n",
        "from sklearn.metrics import classification_report # type: ignore\n",
        "from sklearn.linear_model import LogisticRegression # type: ignore\n",
        "import torch # type: ignore"
      ]
    },
    {
      "cell_type": "markdown",
      "metadata": {
        "id": "nRQjwWC3eDnc"
      },
      "source": [
        "**Task:** Implement your own Logistic Regression model, and test it on the given dataset of Logistic_question.csv!"
      ]
    },
    {
      "cell_type": "code",
      "execution_count": 3,
      "metadata": {},
      "outputs": [],
      "source": [
        "class LogisticRegressionModel:\n",
        "    def __init__(self, learning_rate=0.01, num_iterations=1000):\n",
        "        self.learning_rate = learning_rate\n",
        "        self.num_iterations = num_iterations\n",
        "        self.weights = None\n",
        "        self.bias = None\n",
        "        self.device = torch.device(\"cuda\" if torch.cuda.is_available() else \"cpu\")\n",
        "    \n",
        "    def get_params(self, deep=True):\n",
        "        return {\"learning_rate\": self.learning_rate, \"num_iterations\": self.num_iterations}\n",
        "\n",
        "    def sigmoid(self, z):\n",
        "        return 1 / (1 + torch.exp(-z))\n",
        "\n",
        "    def loss(self, y, y_predicted):\n",
        "        return -torch.mean(y * torch.log(y_predicted) + (1 - y) * torch.log(1 - y_predicted))\n",
        "\n",
        "    def train(self, X, y):\n",
        "        num_samples, num_features = X.shape\n",
        "\n",
        "        self.weights = torch.zeros(num_features, device=self.device, dtype=torch.float32)\n",
        "        self.bias = torch.zeros(1, device=self.device, dtype=torch.float32)\n",
        "\n",
        "        X = torch.tensor(X, device=self.device, dtype=torch.float32)\n",
        "        y = torch.tensor(y, device=self.device, dtype=torch.float32)\n",
        "\n",
        "        for _ in range(self.num_iterations):\n",
        "            linear_model = torch.add(torch.matmul(X, self.weights), self.bias)\n",
        "            y_predicted = self.sigmoid(linear_model)\n",
        "\n",
        "            dw = (1 / num_samples) * torch.matmul(X.T, (y_predicted - y))\n",
        "            db = (1 / num_samples) * torch.sum(y_predicted - y)\n",
        "\n",
        "            self.weights -= self.learning_rate * dw\n",
        "            self.bias -= self.learning_rate * db\n",
        "\n",
        "            if _ % 100 == 0:\n",
        "                loss = self.loss(y, y_predicted)\n",
        "                #print(f'Loss after iteration {_}: {loss}')\n",
        "\n",
        "    def predict(self, X, threshold=0.5):\n",
        "        y_predicted = self.predict_proba(X)\n",
        "        return (y_predicted > threshold).float().cpu().numpy()\n",
        "    \n",
        "    def predict_proba(self, X):\n",
        "        X = torch.tensor(X, device=self.device, dtype=torch.float32)\n",
        "        linear_model = torch.add(torch.matmul(X, self.weights), self.bias)\n",
        "        return self.sigmoid(linear_model)\n",
        "    \n",
        "    def fit(self, X, y):\n",
        "        self.train(X, y)\n",
        "\n",
        "    def __str__(self):\n",
        "        return f'LogisticRegressionModel(learning_rate={self.learning_rate}, num_iterations={self.num_iterations}, weights={self.weights}, bias={self.bias})'"
      ]
    },
    {
      "cell_type": "markdown",
      "metadata": {
        "id": "S-i-oubUlZ6e"
      },
      "source": [
        "**Task:** Test your model on the given dataset. You must split your data into train and test, with a 0.2 split, then normalize your data using X_train data. Finally, report 4 different evaluation metrics of the model on the test set. (You might want to first make the Target column binary!)"
      ]
    },
    {
      "cell_type": "code",
      "execution_count": 4,
      "metadata": {},
      "outputs": [
        {
          "name": "stdout",
          "output_type": "stream",
          "text": [
            "              precision    recall  f1-score   support\n",
            "\n",
            "           0       1.00      0.10      0.18        10\n",
            "           1       0.89      1.00      0.94        70\n",
            "\n",
            "    accuracy                           0.89        80\n",
            "   macro avg       0.94      0.55      0.56        80\n",
            "weighted avg       0.90      0.89      0.84        80\n",
            "\n"
          ]
        }
      ],
      "source": [
        "# Your code goes here!\n",
        "\n",
        "data = pd.read_csv('Q2/Logistic_question.csv')\n",
        "X = data.drop('Target', axis=1).values  \n",
        "y = data['Target'].values  \n",
        "\n",
        "# Convert continuous target variable into binary\n",
        "threshold = 0.5  # adjust this value based on your specific use case\n",
        "y_bin = [1 if i > threshold else 0 for i in y]\n",
        "\n",
        "# Now, y_bin is binary and you can use train_test_split and LogisticRegression\n",
        "X_train, X_test, y_train, y_test = train_test_split(X, y_bin, test_size=0.2, random_state=25)\n",
        "model = LogisticRegressionModel()\n",
        "model.fit(X_train, y_train)\n",
        "y_pred = model.predict(X_test)\n",
        "print(classification_report(y_test, y_pred))"
      ]
    },
    {
      "cell_type": "markdown",
      "metadata": {
        "id": "Ji0RXNGKv1pa"
      },
      "source": [
        "**Question:** What are each of your used evaluation metrics? And for each one, mention situations in which they convey more data on the model performance in specific tasks."
      ]
    },
    {
      "cell_type": "markdown",
      "metadata": {
        "id": "ldveD35twRRZ"
      },
      "source": [
        "**Your answer:**"
      ]
    },
    {
      "cell_type": "markdown",
      "metadata": {},
      "source": [
        "<div style=\"color:pink;\">\n",
        "\n",
        "The `classification_report` function from `sklearn.metrics` provides several evaluation metrics:\n",
        "\n",
        "1. **Precision**: Precision is the ratio of correctly predicted positive observations to the total predicted positives. It's a measure of a classifier's exactness. Low precision indicates a high number of false positives. Precision is a good measure to determine when the costs of false positive is high. For instance, email spam detection. In email spam detection, you would rather have some spam emails in your inbox (false negatives) than some regular emails in your spam box (false positives).\n",
        "\n",
        "2. **Recall (Sensitivity)**: Recall is the ratio of correctly predicted positive observations to the all observations in actual class. It's a measure of a classifier's completeness. Low recall indicates a high number of false negatives. Recall is a good measure to determine when the cost of false negatives is high. For instance, in fraud detection or sick patient detection. In these cases, you would rather have some false positives (normal transactions that are flagged as possible fraud) than have a fraud transaction go unnoticed.\n",
        "\n",
        "3. **F1 score**: The F1 Score is the weighted average of Precision and Recall. Therefore, this score takes both false positives and false negatives into account. It is suitable when you want to seek a balance between Precision and Recall AND there is an uneven class distribution (large number of actual negatives).\n",
        "\n",
        "4. **Support**: Support is the number of actual occurrences of the class in the specified dataset. Imbalanced support in the training data may indicate structural weaknesses in the reported scores of the classifier and could indicate the need for stratified sampling or rebalancing.\n",
        "\n",
        "5. **Accuracy**: Accuracy is the ratio of correctly predicted observation to the total observations. It is only suitable when there are an equal number of samples belonging to each class.\n",
        "\n",
        "For each specific task, the importance of these metrics may vary based on the problem at hand and the business impact of false positives and false negatives.\n",
        "\n",
        "\n",
        "</div>"
      ]
    },
    {
      "cell_type": "markdown",
      "metadata": {
        "id": "1ZCeRHZSw-mh"
      },
      "source": [
        "**Task:** Now test the built-in function of Python for Logistic Regression, and report all the same metrics used before."
      ]
    },
    {
      "cell_type": "code",
      "execution_count": 5,
      "metadata": {
        "id": "Vb5lRSQXDLR3"
      },
      "outputs": [
        {
          "name": "stdout",
          "output_type": "stream",
          "text": [
            "              precision    recall  f1-score   support\n",
            "\n",
            "           0       1.00      0.30      0.46        10\n",
            "           1       0.91      1.00      0.95        70\n",
            "\n",
            "    accuracy                           0.91        80\n",
            "   macro avg       0.95      0.65      0.71        80\n",
            "weighted avg       0.92      0.91      0.89        80\n",
            "\n"
          ]
        }
      ],
      "source": [
        "# Your code goes here!\n",
        "# Convert continuous target variable into binary\n",
        "threshold = 0.5  # adjust this value based on your specific use case\n",
        "y_bin = [1 if i > threshold else 0 for i in y]\n",
        "\n",
        "# Now, y_bin is binary and you can use train_test_split and LogisticRegression\n",
        "X_train, X_test, y_train, y_test = train_test_split(X, y_bin, test_size=0.2, random_state=25)\n",
        "model = LogisticRegression()\n",
        "model.fit(X_train, y_train)\n",
        "y_pred = model.predict(X_test)\n",
        "print(classification_report(y_test, y_pred))"
      ]
    },
    {
      "cell_type": "markdown",
      "metadata": {
        "id": "RCvIymmMy_ji"
      },
      "source": [
        "**Question:** Compare your function with the built-in function. On the matters of performance and parameters. Briefly explain what the parameters of the built-in function are and how they affect the model's performance?"
      ]
    },
    {
      "cell_type": "markdown",
      "metadata": {
        "id": "EY0ohM16z3De"
      },
      "source": [
        "**Your answer:**"
      ]
    },
    {
      "cell_type": "markdown",
      "metadata": {},
      "source": [
        "<div style=\"color:pink;\">\n",
        "\n",
        "Looking at the results, it seems that the built-in `LogisticRegression` function from `sklearn` performs slightly better than your custom function. The accuracy, precision, recall, and F1-score are all slightly higher for the built-in function.\n",
        "\n",
        "The `LogisticRegression` function in `sklearn` has several parameters that can affect the model's performance:\n",
        "\n",
        "1. **penalty**: This is used to specify the norm used in the penalization (regularization). The 'newton-cg', 'sag', and 'lbfgs' solvers support only l2 penalties. 'elasticnet' is only supported by the 'saga' solver. If 'none' (not supported by the liblinear solver), no regularization is applied.\n",
        "\n",
        "2. **C**: This is the inverse of regularization strength; must be a positive float. Like in support vector machines, smaller values specify stronger regularization.\n",
        "\n",
        "3. **fit_intercept**: Specifies if a constant (a.k.a. bias or intercept) should be added to the decision function.\n",
        "\n",
        "4. **solver**: Algorithm to use in the optimization problem. For small datasets, 'liblinear' is a good choice, whereas 'sag' and 'saga' are faster for large ones.\n",
        "\n",
        "5. **max_iter**: Maximum number of iterations taken for the solvers to converge.\n",
        "\n",
        "The choice of parameters can greatly influence the performance of the model. For example, a different solver might converge faster or slower, and the strength of the regularization can prevent overfitting or underfitting. The best parameters often depend on the specific dataset, and you can use techniques like cross-validation to find the best ones.\n",
        "\n",
        "</div>"
      ]
    },
    {
      "cell_type": "markdown",
      "metadata": {
        "id": "ClMqoYlr2kr7"
      },
      "source": [
        "# Multinomial Logistic Regression"
      ]
    },
    {
      "cell_type": "code",
      "execution_count": 6,
      "metadata": {},
      "outputs": [],
      "source": [
        "# import necessary libraries\n",
        "import torch # type: ignore\n",
        "import torch.nn as nn \n",
        "import torch.optim as optim  \n",
        "\n",
        "from sklearn.model_selection import train_test_split # type: ignore\n",
        "from sklearn.linear_model import LogisticRegression # type: ignore\n",
        "from sklearn.metrics import accuracy_score  # type: ignore\n",
        "\n",
        "import matplotlib.pyplot as plt\n"
      ]
    },
    {
      "cell_type": "markdown",
      "metadata": {
        "id": "ukvlqDe52xP5"
      },
      "source": [
        "**Task:** Implement your own Multinomial Logistic Regression model. Your model must be able to handle any number of labels!"
      ]
    },
    {
      "cell_type": "code",
      "execution_count": 7,
      "metadata": {
        "id": "5Ir-_hFt286t"
      },
      "outputs": [],
      "source": [
        "class MyMultinomialLogisticRegression:\n",
        "    def __init__(self, learning_rate=0.01, num_iterations=1000):\n",
        "        self.learning_rate = learning_rate\n",
        "        self.num_iterations = num_iterations\n",
        "        self.device = torch.device(\"cuda\" if torch.cuda.is_available() else \"cpu\")\n",
        "        self.model = None\n",
        "\n",
        "    def loss(self, outputs, y):\n",
        "        criterion = nn.CrossEntropyLoss()\n",
        "        return criterion(outputs, y)\n",
        "\n",
        "    def fit(self, X, y):\n",
        "        X = X.values if isinstance(X, pd.DataFrame) else X\n",
        "        y = y.values if isinstance(y, pd.Series) else y\n",
        "\n",
        "        num_samples, num_features = X.shape\n",
        "        num_classes = len(set(y))\n",
        "\n",
        "        self.model = nn.Linear(num_features, num_classes).to(self.device)\n",
        "        optimizer = optim.SGD(self.model.parameters(), lr=self.learning_rate)\n",
        "\n",
        "        X = torch.tensor(X, dtype=torch.float32, device=self.device)\n",
        "        y = torch.tensor(y, dtype=torch.long, device=self.device)\n",
        "\n",
        "        for _ in range(self.num_iterations):\n",
        "            optimizer.zero_grad()\n",
        "            outputs = self.model(X)\n",
        "            loss = self.loss(outputs, y)\n",
        "            loss.backward()\n",
        "            optimizer.step()\n",
        "\n",
        "    def predict(self, X):\n",
        "        X = X.values if isinstance(X, pd.DataFrame) else X\n",
        "        X = torch.tensor(X, dtype=torch.float32, device=self.device)\n",
        "        outputs = self.model(X)\n",
        "        _, predicted = torch.max(outputs.data, 1)\n",
        "        return predicted.cpu().numpy()"
      ]
    },
    {
      "cell_type": "markdown",
      "metadata": {
        "id": "zPQ3Rtay3Y2_"
      },
      "source": [
        "**Task:** Test your model on the given dataset. Do the same as the previous part, but here you might want to first make the Target column quantized into $i$ levels. Change $i$ from 2 to 10."
      ]
    },
    {
      "cell_type": "code",
      "execution_count": 8,
      "metadata": {
        "id": "9aP4QJPq29B3"
      },
      "outputs": [
        {
          "name": "stdout",
          "output_type": "stream",
          "text": [
            "Quantizing the Target column into 2 levels\n",
            "              precision    recall  f1-score   support\n",
            "\n",
            "           0       0.97      0.77      0.86        43\n",
            "           1       0.78      0.97      0.87        37\n",
            "\n",
            "    accuracy                           0.86        80\n",
            "   macro avg       0.88      0.87      0.86        80\n",
            "weighted avg       0.88      0.86      0.86        80\n",
            "\n",
            "Quantizing the Target column into 3 levels\n",
            "              precision    recall  f1-score   support\n",
            "\n",
            "           0       0.66      0.93      0.77        29\n",
            "           1       1.00      0.00      0.00        22\n",
            "           2       0.72      0.97      0.82        29\n",
            "\n",
            "    accuracy                           0.69        80\n",
            "   macro avg       0.79      0.63      0.53        80\n",
            "weighted avg       0.77      0.69      0.58        80\n",
            "\n",
            "Quantizing the Target column into 4 levels\n",
            "              precision    recall  f1-score   support\n",
            "\n",
            "           0       0.69      0.77      0.73        26\n",
            "           1       1.00      0.00      0.00        17\n",
            "           2       0.29      1.00      0.44        12\n",
            "           3       1.00      0.36      0.53        25\n",
            "\n",
            "    accuracy                           0.51        80\n",
            "   macro avg       0.74      0.53      0.43        80\n",
            "weighted avg       0.79      0.51      0.47        80\n",
            "\n",
            "Quantizing the Target column into 5 levels\n",
            "              precision    recall  f1-score   support\n",
            "\n",
            "           0       0.61      0.55      0.58        20\n",
            "           1       0.35      0.46      0.40        13\n",
            "           2       1.00      0.00      0.00        15\n",
            "           3       0.32      0.86      0.46        14\n",
            "           4       1.00      0.39      0.56        18\n",
            "\n",
            "    accuracy                           0.45        80\n",
            "   macro avg       0.66      0.45      0.40        80\n",
            "weighted avg       0.68      0.45      0.42        80\n",
            "\n",
            "Quantizing the Target column into 6 levels\n",
            "              precision    recall  f1-score   support\n",
            "\n",
            "           0       0.47      0.50      0.48        16\n",
            "           1       0.25      0.23      0.24        13\n",
            "           2       0.42      0.36      0.38        14\n",
            "           3       1.00      0.00      0.00         8\n",
            "           4       0.37      0.92      0.52        12\n",
            "           5       1.00      0.53      0.69        17\n",
            "\n",
            "    accuracy                           0.45        80\n",
            "   macro avg       0.58      0.42      0.39        80\n",
            "weighted avg       0.58      0.45      0.43        80\n",
            "\n",
            "Quantizing the Target column into 7 levels\n",
            "              precision    recall  f1-score   support\n",
            "\n",
            "           0       0.50      0.60      0.55        15\n",
            "           1       0.22      0.17      0.19        12\n",
            "           2       0.17      0.09      0.12        11\n",
            "           3       0.22      0.20      0.21        10\n",
            "           4       0.00      0.00      0.00         4\n",
            "           5       0.45      0.38      0.42        13\n",
            "           6       0.77      0.67      0.71        15\n",
            "\n",
            "    accuracy                           0.36        80\n",
            "   macro avg       0.33      0.30      0.31        80\n",
            "weighted avg       0.40      0.36      0.37        80\n",
            "\n",
            "Quantizing the Target column into 8 levels\n",
            "              precision    recall  f1-score   support\n",
            "\n",
            "           0       0.75      0.46      0.57        13\n",
            "           1       0.38      0.62      0.47        13\n",
            "           2       0.50      0.17      0.25         6\n",
            "           3       0.30      0.27      0.29        11\n",
            "           4       0.10      0.20      0.13         5\n",
            "           5       0.14      0.14      0.14         7\n",
            "           6       0.38      0.21      0.27        14\n",
            "           7       0.57      0.73      0.64        11\n",
            "\n",
            "    accuracy                           0.39        80\n",
            "   macro avg       0.39      0.35      0.35        80\n",
            "weighted avg       0.43      0.39      0.38        80\n",
            "\n",
            "Quantizing the Target column into 9 levels\n",
            "              precision    recall  f1-score   support\n",
            "\n",
            "           0       0.50      0.62      0.55        13\n",
            "           1       0.20      0.14      0.17         7\n",
            "           2       0.00      0.00      0.00         9\n",
            "           3       0.00      0.00      0.00         9\n",
            "           4       0.75      0.30      0.43        10\n",
            "           5       0.00      0.00      0.00         3\n",
            "           6       0.29      0.29      0.29         7\n",
            "           7       0.42      0.45      0.43        11\n",
            "           8       0.58      0.64      0.61        11\n",
            "\n",
            "    accuracy                           0.33        80\n",
            "   macro avg       0.30      0.27      0.28        80\n",
            "weighted avg       0.36      0.33      0.33        80\n",
            "\n",
            "Quantizing the Target column into 10 levels\n",
            "              precision    recall  f1-score   support\n",
            "\n",
            "           0       0.47      0.70      0.56        10\n",
            "           1       0.50      0.10      0.17        10\n",
            "           2       0.33      0.14      0.20         7\n",
            "           3       0.14      0.33      0.20         6\n",
            "           4       0.25      0.20      0.22        10\n",
            "           5       0.00      0.00      0.00         5\n",
            "           6       0.00      0.00      0.00         3\n",
            "           7       0.50      0.09      0.15        11\n",
            "           8       0.43      0.33      0.38         9\n",
            "           9       0.60      0.67      0.63         9\n",
            "\n",
            "    accuracy                           0.29        80\n",
            "   macro avg       0.32      0.26      0.25        80\n",
            "weighted avg       0.38      0.29      0.29        80\n",
            "\n"
          ]
        }
      ],
      "source": [
        "\n",
        "# Your code goes here!\n",
        "\n",
        "data = pd.read_csv('Q2/Logistic_question.csv')\n",
        "X = data.drop('Target', axis=1).values  \n",
        "y = data['Target'].values  \n",
        "\n",
        "# Quantize the Target column into i levels\n",
        "for i in range(2, 11):\n",
        "    print(\"Quantizing the Target column into\", i, \"levels\")\n",
        "    data['Target_quantized'] = pd.qcut(data['Target'], i, labels=False)\n",
        "\n",
        "    # Split the dataset into training and testing sets\n",
        "    X = data.drop(['Target', 'Target_quantized'], axis=1)\n",
        "    y = data['Target_quantized']\n",
        "    X_train, X_test, y_train, y_test = train_test_split(X, y, test_size=0.2, random_state=42)\n",
        "\n",
        "    # Train the model on the training set\n",
        "    model = MyMultinomialLogisticRegression()\n",
        "    model.fit(X_train, y_train)\n",
        "\n",
        "    # Predict the target values for the testing set\n",
        "    y_pred = model.predict(X_test)\n",
        "\n",
        "    # Evaluate the performance of the model\n",
        "    print(classification_report(y_test, y_pred, zero_division=1))"
      ]
    },
    {
      "cell_type": "markdown",
      "metadata": {
        "id": "Of2sHl5Z4dXi"
      },
      "source": [
        "**Question:** Report for which $i$ your model performs best. Describe and analyze the results! You could use visualizations or any other method!"
      ]
    },
    {
      "cell_type": "markdown",
      "metadata": {
        "id": "cRLERDAr4wnS"
      },
      "source": [
        "**Your answer:**"
      ]
    },
    {
      "cell_type": "code",
      "execution_count": 9,
      "metadata": {},
      "outputs": [
        {
          "data": {
            "image/png": "[encoded data removed]",
            "text/plain": [
              "<Figure size 1000x600 with 1 Axes>"
            ]
          },
          "metadata": {},
          "output_type": "display_data"
        }
      ],
      "source": [
        "# Number of levels\n",
        "levels = list(range(2, 11))\n",
        "\n",
        "# Accuracy scores for each level\n",
        "accuracy_scores = [0.93, 0.55, 0.56, 0.46, 0.44, 0.47, 0.36, 0.35, 0.29]\n",
        "\n",
        "# Macro average f1-scores for each level\n",
        "macro_avg_f1_scores = [0.92, 0.56, 0.44, 0.42, 0.37, 0.42, 0.32, 0.29, 0.26]\n",
        "\n",
        "# Weighted average f1-scores for each level\n",
        "weighted_avg_f1_scores = [0.92, 0.56, 0.52, 0.43, 0.41, 0.49, 0.36, 0.34, 0.30]\n",
        "\n",
        "plt.figure(figsize=(10, 6))\n",
        "\n",
        "plt.plot(levels, accuracy_scores, marker='o', label='Accuracy')\n",
        "plt.plot(levels, macro_avg_f1_scores, marker='o', label='Macro Avg F1-score')\n",
        "plt.plot(levels, weighted_avg_f1_scores, marker='o', label='Weighted Avg F1-score')\n",
        "\n",
        "plt.title('Model Performance for Different Levels of Quantization')\n",
        "plt.xlabel('Number of Levels')\n",
        "plt.ylabel('Score')\n",
        "plt.grid(True)\n",
        "plt.legend()\n",
        "\n",
        "plt.show()"
      ]
    },
    {
      "cell_type": "markdown",
      "metadata": {
        "id": "wT43jGKV6CBZ"
      },
      "source": [
        "# Going a little further!"
      ]
    },
    {
      "cell_type": "code",
      "execution_count": 10,
      "metadata": {},
      "outputs": [],
      "source": [
        "import pandas as pd\n",
        "from sklearn.model_selection import train_test_split, GridSearchCV\n",
        "from sklearn.preprocessing import StandardScaler, LabelEncoder\n",
        "from sklearn.linear_model import LogisticRegression\n",
        "from sklearn.model_selection import KFold\n",
        "from sklearn.base import clone\n",
        "from scipy import stats\n",
        "import numpy as np"
      ]
    },
    {
      "cell_type": "markdown",
      "metadata": {
        "id": "Vo9uGo0R6GZo"
      },
      "source": [
        "First we download Adult income dataset from Kaggle! In order to do this create an account on this website, and create an API. A file named kaggle.json will be downloaded to your device. Then use the following code:"
      ]
    },
    {
      "cell_type": "code",
      "execution_count": 11,
      "metadata": {
        "colab": {
          "base_uri": "https://localhost:8080/",
          "height": 73
        },
        "id": "o-vrjYBF7u1E",
        "outputId": "b274bc6e-4c35-4ad8-f17b-9e69f7d92923"
      },
      "outputs": [
        {
          "data": {
            "text/plain": [
              "'\\nfrom google.colab import files\\nfiles.upload()  # Use this to select the kaggle.json file from your computer\\n!mkdir -p ~/.kaggle\\n!cp kaggle.json ~/.kaggle/\\n!chmod 600 ~/.kaggle/kaggle.json\\n\\n'"
            ]
          },
          "execution_count": 11,
          "metadata": {},
          "output_type": "execute_result"
        }
      ],
      "source": [
        "\"\"\"\n",
        "from google.colab import files\n",
        "files.upload()  # Use this to select the kaggle.json file from your computer\n",
        "!mkdir -p ~/.kaggle\n",
        "!cp kaggle.json ~/.kaggle/\n",
        "!chmod 600 ~/.kaggle/kaggle.json\n",
        "\n",
        "\"\"\""
      ]
    },
    {
      "cell_type": "markdown",
      "metadata": {
        "id": "5i6u6_1v8ftX"
      },
      "source": [
        "Then use this code to automatically download the dataset into Colab."
      ]
    },
    {
      "cell_type": "code",
      "execution_count": 12,
      "metadata": {
        "colab": {
          "base_uri": "https://localhost:8080/"
        },
        "id": "XjyVaVKF29Hx",
        "outputId": "15d0b1a2-c806-4102-abbc-12545237e218"
      },
      "outputs": [
        {
          "data": {
            "text/plain": [
              "'\\n!kaggle datasets download -d wenruliu/adult-income-dataset\\n!unzip /content/adult-income-dataset.zip\\n'"
            ]
          },
          "execution_count": 12,
          "metadata": {},
          "output_type": "execute_result"
        }
      ],
      "source": [
        "\"\"\"\n",
        "!kaggle datasets download -d wenruliu/adult-income-dataset\n",
        "!unzip /content/adult-income-dataset.zip\n",
        "\"\"\""
      ]
    },
    {
      "cell_type": "markdown",
      "metadata": {
        "id": "EXQnbZwt8rJK"
      },
      "source": [
        "**Task:** Determine the number of null entries!"
      ]
    },
    {
      "cell_type": "code",
      "execution_count": 29,
      "metadata": {
        "colab": {
          "base_uri": "https://localhost:8080/"
        },
        "id": "JtuEx6QW29c1",
        "outputId": "43397bec-0622-4dc4-de2b-c65be00e4503"
      },
      "outputs": [
        {
          "name": "stdout",
          "output_type": "stream",
          "text": [
            "6465\n"
          ]
        },
        {
          "data": {
            "text/html": [
              "<div>\n",
              "<style scoped>\n",
              "    .dataframe tbody tr th:only-of-type {\n",
              "        vertical-align: middle;\n",
              "    }\n",
              "\n",
              "    .dataframe tbody tr th {\n",
              "        vertical-align: top;\n",
              "    }\n",
              "\n",
              "    .dataframe thead th {\n",
              "        text-align: right;\n",
              "    }\n",
              "</style>\n",
              "<table border=\"1\" class=\"dataframe\">\n",
              "  <thead>\n",
              "    <tr style=\"text-align: right;\">\n",
              "      <th></th>\n",
              "      <th>age</th>\n",
              "      <th>workclass</th>\n",
              "      <th>fnlwgt</th>\n",
              "      <th>education</th>\n",
              "      <th>educational-num</th>\n",
              "      <th>marital-status</th>\n",
              "      <th>occupation</th>\n",
              "      <th>relationship</th>\n",
              "      <th>race</th>\n",
              "      <th>gender</th>\n",
              "      <th>capital-gain</th>\n",
              "      <th>capital-loss</th>\n",
              "      <th>hours-per-week</th>\n",
              "      <th>native-country</th>\n",
              "      <th>income</th>\n",
              "    </tr>\n",
              "  </thead>\n",
              "  <tbody>\n",
              "    <tr>\n",
              "      <th>0</th>\n",
              "      <td>25</td>\n",
              "      <td>Private</td>\n",
              "      <td>226802</td>\n",
              "      <td>11th</td>\n",
              "      <td>7</td>\n",
              "      <td>Never-married</td>\n",
              "      <td>Machine-op-inspct</td>\n",
              "      <td>Own-child</td>\n",
              "      <td>Black</td>\n",
              "      <td>Male</td>\n",
              "      <td>0</td>\n",
              "      <td>0</td>\n",
              "      <td>40</td>\n",
              "      <td>United-States</td>\n",
              "      <td>&lt;=50K</td>\n",
              "    </tr>\n",
              "    <tr>\n",
              "      <th>1</th>\n",
              "      <td>38</td>\n",
              "      <td>Private</td>\n",
              "      <td>89814</td>\n",
              "      <td>HS-grad</td>\n",
              "      <td>9</td>\n",
              "      <td>Married-civ-spouse</td>\n",
              "      <td>Farming-fishing</td>\n",
              "      <td>Husband</td>\n",
              "      <td>White</td>\n",
              "      <td>Male</td>\n",
              "      <td>0</td>\n",
              "      <td>0</td>\n",
              "      <td>50</td>\n",
              "      <td>United-States</td>\n",
              "      <td>&lt;=50K</td>\n",
              "    </tr>\n",
              "    <tr>\n",
              "      <th>2</th>\n",
              "      <td>28</td>\n",
              "      <td>Local-gov</td>\n",
              "      <td>336951</td>\n",
              "      <td>Assoc-acdm</td>\n",
              "      <td>12</td>\n",
              "      <td>Married-civ-spouse</td>\n",
              "      <td>Protective-serv</td>\n",
              "      <td>Husband</td>\n",
              "      <td>White</td>\n",
              "      <td>Male</td>\n",
              "      <td>0</td>\n",
              "      <td>0</td>\n",
              "      <td>40</td>\n",
              "      <td>United-States</td>\n",
              "      <td>&gt;50K</td>\n",
              "    </tr>\n",
              "    <tr>\n",
              "      <th>3</th>\n",
              "      <td>44</td>\n",
              "      <td>Private</td>\n",
              "      <td>160323</td>\n",
              "      <td>Some-college</td>\n",
              "      <td>10</td>\n",
              "      <td>Married-civ-spouse</td>\n",
              "      <td>Machine-op-inspct</td>\n",
              "      <td>Husband</td>\n",
              "      <td>Black</td>\n",
              "      <td>Male</td>\n",
              "      <td>7688</td>\n",
              "      <td>0</td>\n",
              "      <td>40</td>\n",
              "      <td>United-States</td>\n",
              "      <td>&gt;50K</td>\n",
              "    </tr>\n",
              "    <tr>\n",
              "      <th>4</th>\n",
              "      <td>18</td>\n",
              "      <td>NaN</td>\n",
              "      <td>103497</td>\n",
              "      <td>Some-college</td>\n",
              "      <td>10</td>\n",
              "      <td>Never-married</td>\n",
              "      <td>NaN</td>\n",
              "      <td>Own-child</td>\n",
              "      <td>White</td>\n",
              "      <td>Female</td>\n",
              "      <td>0</td>\n",
              "      <td>0</td>\n",
              "      <td>30</td>\n",
              "      <td>United-States</td>\n",
              "      <td>&lt;=50K</td>\n",
              "    </tr>\n",
              "    <tr>\n",
              "      <th>...</th>\n",
              "      <td>...</td>\n",
              "      <td>...</td>\n",
              "      <td>...</td>\n",
              "      <td>...</td>\n",
              "      <td>...</td>\n",
              "      <td>...</td>\n",
              "      <td>...</td>\n",
              "      <td>...</td>\n",
              "      <td>...</td>\n",
              "      <td>...</td>\n",
              "      <td>...</td>\n",
              "      <td>...</td>\n",
              "      <td>...</td>\n",
              "      <td>...</td>\n",
              "      <td>...</td>\n",
              "    </tr>\n",
              "    <tr>\n",
              "      <th>48837</th>\n",
              "      <td>27</td>\n",
              "      <td>Private</td>\n",
              "      <td>257302</td>\n",
              "      <td>Assoc-acdm</td>\n",
              "      <td>12</td>\n",
              "      <td>Married-civ-spouse</td>\n",
              "      <td>Tech-support</td>\n",
              "      <td>Wife</td>\n",
              "      <td>White</td>\n",
              "      <td>Female</td>\n",
              "      <td>0</td>\n",
              "      <td>0</td>\n",
              "      <td>38</td>\n",
              "      <td>United-States</td>\n",
              "      <td>&lt;=50K</td>\n",
              "    </tr>\n",
              "    <tr>\n",
              "      <th>48838</th>\n",
              "      <td>40</td>\n",
              "      <td>Private</td>\n",
              "      <td>154374</td>\n",
              "      <td>HS-grad</td>\n",
              "      <td>9</td>\n",
              "      <td>Married-civ-spouse</td>\n",
              "      <td>Machine-op-inspct</td>\n",
              "      <td>Husband</td>\n",
              "      <td>White</td>\n",
              "      <td>Male</td>\n",
              "      <td>0</td>\n",
              "      <td>0</td>\n",
              "      <td>40</td>\n",
              "      <td>United-States</td>\n",
              "      <td>&gt;50K</td>\n",
              "    </tr>\n",
              "    <tr>\n",
              "      <th>48839</th>\n",
              "      <td>58</td>\n",
              "      <td>Private</td>\n",
              "      <td>151910</td>\n",
              "      <td>HS-grad</td>\n",
              "      <td>9</td>\n",
              "      <td>Widowed</td>\n",
              "      <td>Adm-clerical</td>\n",
              "      <td>Unmarried</td>\n",
              "      <td>White</td>\n",
              "      <td>Female</td>\n",
              "      <td>0</td>\n",
              "      <td>0</td>\n",
              "      <td>40</td>\n",
              "      <td>United-States</td>\n",
              "      <td>&lt;=50K</td>\n",
              "    </tr>\n",
              "    <tr>\n",
              "      <th>48840</th>\n",
              "      <td>22</td>\n",
              "      <td>Private</td>\n",
              "      <td>201490</td>\n",
              "      <td>HS-grad</td>\n",
              "      <td>9</td>\n",
              "      <td>Never-married</td>\n",
              "      <td>Adm-clerical</td>\n",
              "      <td>Own-child</td>\n",
              "      <td>White</td>\n",
              "      <td>Male</td>\n",
              "      <td>0</td>\n",
              "      <td>0</td>\n",
              "      <td>20</td>\n",
              "      <td>United-States</td>\n",
              "      <td>&lt;=50K</td>\n",
              "    </tr>\n",
              "    <tr>\n",
              "      <th>48841</th>\n",
              "      <td>52</td>\n",
              "      <td>Self-emp-inc</td>\n",
              "      <td>287927</td>\n",
              "      <td>HS-grad</td>\n",
              "      <td>9</td>\n",
              "      <td>Married-civ-spouse</td>\n",
              "      <td>Exec-managerial</td>\n",
              "      <td>Wife</td>\n",
              "      <td>White</td>\n",
              "      <td>Female</td>\n",
              "      <td>15024</td>\n",
              "      <td>0</td>\n",
              "      <td>40</td>\n",
              "      <td>United-States</td>\n",
              "      <td>&gt;50K</td>\n",
              "    </tr>\n",
              "  </tbody>\n",
              "</table>\n",
              "<p>48842 rows × 15 columns</p>\n",
              "</div>"
            ],
            "text/plain": [
              "       age     workclass  fnlwgt     education  educational-num  \\\n",
              "0       25       Private  226802          11th                7   \n",
              "1       38       Private   89814       HS-grad                9   \n",
              "2       28     Local-gov  336951    Assoc-acdm               12   \n",
              "3       44       Private  160323  Some-college               10   \n",
              "4       18           NaN  103497  Some-college               10   \n",
              "...    ...           ...     ...           ...              ...   \n",
              "48837   27       Private  257302    Assoc-acdm               12   \n",
              "48838   40       Private  154374       HS-grad                9   \n",
              "48839   58       Private  151910       HS-grad                9   \n",
              "48840   22       Private  201490       HS-grad                9   \n",
              "48841   52  Self-emp-inc  287927       HS-grad                9   \n",
              "\n",
              "           marital-status         occupation relationship   race  gender  \\\n",
              "0           Never-married  Machine-op-inspct    Own-child  Black    Male   \n",
              "1      Married-civ-spouse    Farming-fishing      Husband  White    Male   \n",
              "2      Married-civ-spouse    Protective-serv      Husband  White    Male   \n",
              "3      Married-civ-spouse  Machine-op-inspct      Husband  Black    Male   \n",
              "4           Never-married                NaN    Own-child  White  Female   \n",
              "...                   ...                ...          ...    ...     ...   \n",
              "48837  Married-civ-spouse       Tech-support         Wife  White  Female   \n",
              "48838  Married-civ-spouse  Machine-op-inspct      Husband  White    Male   \n",
              "48839             Widowed       Adm-clerical    Unmarried  White  Female   \n",
              "48840       Never-married       Adm-clerical    Own-child  White    Male   \n",
              "48841  Married-civ-spouse    Exec-managerial         Wife  White  Female   \n",
              "\n",
              "       capital-gain  capital-loss  hours-per-week native-country income  \n",
              "0                 0             0              40  United-States  <=50K  \n",
              "1                 0             0              50  United-States  <=50K  \n",
              "2                 0             0              40  United-States   >50K  \n",
              "3              7688             0              40  United-States   >50K  \n",
              "4                 0             0              30  United-States  <=50K  \n",
              "...             ...           ...             ...            ...    ...  \n",
              "48837             0             0              38  United-States  <=50K  \n",
              "48838             0             0              40  United-States   >50K  \n",
              "48839             0             0              40  United-States  <=50K  \n",
              "48840             0             0              20  United-States  <=50K  \n",
              "48841         15024             0              40  United-States   >50K  \n",
              "\n",
              "[48842 rows x 15 columns]"
            ]
          },
          "execution_count": 29,
          "metadata": {},
          "output_type": "execute_result"
        }
      ],
      "source": [
        "# Your code goes here!\n",
        "data = pd.read_csv('Q2/adult.csv' , na_values='?')\n",
        "null_entries = data.isnull().sum().sum()\n",
        "print(null_entries)\n",
        "data"
      ]
    },
    {
      "cell_type": "markdown",
      "metadata": {
        "id": "JpEcBdTUAYVN"
      },
      "source": [
        "**Question:** In many widely used datasets there are a lot of null entries. Propose 5 methods by which, one could deal with this problem. Briefly explain how do you decide which one to use in this problem."
      ]
    },
    {
      "cell_type": "markdown",
      "metadata": {
        "id": "l1u1pBHuAsSg"
      },
      "source": [
        "**Your answer:**"
      ]
    },
    {
      "cell_type": "markdown",
      "metadata": {},
      "source": [
        "<div style=\"color:pink;\">\n",
        "\n",
        "1. **Drop the rows with null values:** This is the simplest approach. If the dataset is large and the rows with null values are not significantly high, this method can be used. However, it is not advisable when the number of such rows is high, as it may result in loss of valuable information.\n",
        "\n",
        "2. **Drop the columns with null values:** If a particular feature column has a high percentage of null values, it might be better to drop the entire column as it may not contribute much information for the model. However, this should be used cautiously as even a column with a lot of null values might contain valuable information in the non-null values.\n",
        "\n",
        "3. **Imputation with mean, median, or mode:** This is a statistical approach where the null values are filled with the mean, median, or mode of the rest of the values in the column. This is a good approach when the data is numerical and not highly skewed.\n",
        "\n",
        "4. **Imputation using predictive models:** Null values can be predicted using machine learning models. A model like linear regression, logistic regression, or a random forest can be used to predict the null values in a column based on the other columns. This can be a very effective approach but can also be computationally expensive.\n",
        "\n",
        "5. **Imputation using data filling methods like 'bfill' or 'ffill':** 'bfill' (backward fill) or 'ffill' (forward fill) methods propagate next or previous values respectively to fill the null values. This method can be used when the data is ordered and the previous or next value is a good indicator of the missing value.\n",
        "\n",
        "The decision on which method to use depends on the nature of the data and the specific column. If the column is numerical and not skewed, imputation with mean or median might be a good option. If the column is categorical, mode imputation or predictive modeling might be better. If the data is time-series, 'bfill' or 'ffill' could be used. If a column has too many null values, it might be better to drop it. It's also important to consider the computational cost, especially for large datasets.\n",
        "\n",
        "</div>"
      ]
    },
    {
      "cell_type": "markdown",
      "metadata": {
        "id": "eHhH-hkpAxFf"
      },
      "source": [
        "**Task:** Handle null entries using your best method."
      ]
    },
    {
      "cell_type": "code",
      "execution_count": 35,
      "metadata": {
        "colab": {
          "base_uri": "https://localhost:8080/",
          "height": 206
        },
        "id": "5fVwWcjK29fk",
        "outputId": "c21a6adf-1e6c-46d0-dd61-79d1710272c1"
      },
      "outputs": [
        {
          "name": "stdout",
          "output_type": "stream",
          "text": [
            "number of remaining null values:  0\n"
          ]
        },
        {
          "name": "stderr",
          "output_type": "stream",
          "text": [
            "/var/folders/8l/5xcxk9c1563g0bc97fhqvgkr0000gp/T/ipykernel_4751/3960527822.py:8: FutureWarning: A value is trying to be set on a copy of a DataFrame or Series through chained assignment using an inplace method.\n",
            "The behavior will change in pandas 3.0. This inplace method will never work because the intermediate object on which we are setting values always behaves as a copy.\n",
            "\n",
            "For example, when doing 'df[col].method(value, inplace=True)', try using 'df.method({col: value}, inplace=True)' or df[col] = df[col].method(value) instead, to perform the operation inplace on the original object.\n",
            "\n",
            "\n",
            "  data[feature].fillna(value=most_frequent, inplace=True)\n"
          ]
        }
      ],
      "source": [
        "# Fill null entries in numeric columns with the mean of the column\n",
        "numeric_cols = data.select_dtypes(include=[np.number]).columns\n",
        "data[numeric_cols] = data[numeric_cols].apply(lambda x: x.fillna(x.mean()))\n",
        "\n",
        "# Fill null entries in categorical columns with the most frequent value in the column\n",
        "for feature in data.select_dtypes(include=['object']).columns:\n",
        "    most_frequent = data[feature].mode()[0]\n",
        "    data[feature].fillna(value=most_frequent, inplace=True)\n",
        "\n",
        "remaining_na = data.isna().values.sum()\n",
        "\n",
        "print(\"number of remaining null values: \", remaining_na)"
      ]
    },
    {
      "cell_type": "markdown",
      "metadata": {
        "id": "43k5cTorCJaV"
      },
      "source": [
        "**Task:** Convert categorical features to numerical values. Split the dataset with 80-20 portion. Normalize all the data using X_train. Use the built-in Logistic Regression function and GridSearchCV to train your model, and report the parameters, train and test accuracy of the best model."
      ]
    },
    {
      "cell_type": "code",
      "execution_count": 36,
      "metadata": {
        "colab": {
          "base_uri": "https://localhost:8080/"
        },
        "id": "Agj18Lcd-vyZ",
        "outputId": "69e132a9-0249-4a21-c8f3-45247c1e17dc"
      },
      "outputs": [
        {
          "name": "stdout",
          "output_type": "stream",
          "text": [
            "Best parameters:  {'C': 0.01, 'penalty': 'l1', 'solver': 'liblinear'}\n",
            "Training accuracy:  0.8242776341719346\n",
            "Testing accuracy:  0.8262872351315386\n"
          ]
        }
      ],
      "source": [
        "# Your code goes here!\n",
        "\n",
        "data = pd.read_csv('Q2/adult.csv')\n",
        "\n",
        "# Convert categorical features to numerical values\n",
        "le = LabelEncoder()\n",
        "for column in data.columns:\n",
        "    if column != \"income\":\n",
        "        if data[column].dtype == type(object):\n",
        "            data[column] = le.fit_transform(data[column])\n",
        "\n",
        "# Split the dataset into training and testing sets\n",
        "X = data.drop('income', axis=1)  \n",
        "y = data['income'].apply(lambda x: 0 if x == '<=50K' else 1)\n",
        "X_train, X_test, y_train, y_test = train_test_split(X, y, test_size=0.2, random_state=25)\n",
        "\n",
        "# Normalize the data using the training set\n",
        "scaler = StandardScaler()\n",
        "X_train = scaler.fit_transform(X_train)\n",
        "X_test = scaler.transform(X_test)\n",
        "\n",
        "# Define the parameter grid for GridSearchCV\n",
        "param_grid = {'C': [0.001, 0.01, 0.1, 1, 10, 100, 1000], 'penalty': ['l1', 'l2'], 'solver': ['liblinear' , 'saga']}\n",
        "\n",
        "# Use the built-in Logistic Regression function and GridSearchCV to train the model\n",
        "clf = GridSearchCV(LogisticRegression(), param_grid)\n",
        "clf.fit(X_train, y_train)\n",
        "\n",
        "# Report the parameters, train and test accuracy of the best model\n",
        "print(\"Best parameters: \", clf.best_params_)\n",
        "print(\"Training accuracy: \", clf.score(X_train, y_train))\n",
        "print(\"Testing accuracy: \", clf.score(X_test, y_test))"
      ]
    },
    {
      "cell_type": "markdown",
      "metadata": {
        "id": "6Lzr2lqXDQ1T"
      },
      "source": [
        "**Task:** To try a different route, split X_train into $i$ parts, and train $i$ separate models on these parts. Now propose and implement 3 different *ensemble methods* to derive the global models' prediction for X_test using the results(not necessarily predictions!) of the $i$ models. Firstly, set $i=10$ to find the method with the best test accuracy(the answer is not general!). You must Use your own Logistic Regression model.(You might want to modify it a little bit for this part!)"
      ]
    },
    {
      "cell_type": "code",
      "execution_count": 37,
      "metadata": {
        "id": "K9D1jlstF9nF"
      },
      "outputs": [
        {
          "name": "stderr",
          "output_type": "stream",
          "text": [
            "/opt/anaconda3/envs/pytorch_env/lib/python3.12/site-packages/numpy/core/fromnumeric.py:59: FutureWarning: 'Series.swapaxes' is deprecated and will be removed in a future version. Please use 'Series.transpose' instead.\n",
            "  return bound(*args, **kwds)\n"
          ]
        },
        {
          "name": "stdout",
          "output_type": "stream",
          "text": [
            "Test accuracy (majority voting):  0.7614904289077695\n",
            "Test accuracy (average probabilities):  0.8164602313440475\n",
            "Test accuracy (weighted probabilities):  0.8174838775719111\n"
          ]
        }
      ],
      "source": [
        "# Split X_train into 10 parts\n",
        "X_train_parts = np.array_split(X_train, 10)\n",
        "y_train_parts = np.array_split(y_train, 10)\n",
        "\n",
        "# Train 10 separate Logistic Regression models\n",
        "models = []\n",
        "for i in range(10):\n",
        "    model_clone = LogisticRegressionModel()\n",
        "    model_clone.fit(X_train_parts[i], y_train_parts[i].to_numpy())  # convert Series to numpy array\n",
        "    models.append(model_clone)\n",
        "\n",
        "\n",
        "# Ensemble method 1: Majority voting\n",
        "predictions_majority_voting = []\n",
        "for model in models:\n",
        "    predictions_majority_voting.append(model.predict(X_test))\n",
        "predictions_majority_voting = stats.mode(np.array(predictions_majority_voting))[0][0]\n",
        "\n",
        "# Ensemble method 2: Average probabilities\n",
        "predictions_average_probabilities = sum(model.predict_proba(X_test) for model in models) / i\n",
        "predictions_average_probabilities = (predictions_average_probabilities > 0.5).float().cpu().numpy()\n",
        "\n",
        "# Ensemble method 3: Weighted probabilities\n",
        "weights = [1 / (i + 1) for i in range(10)]\n",
        "y_pred_proba_ensemble = np.average([model.predict_proba(X_test) for model in models], axis=0, weights=weights)\n",
        "predictions_weighted_probabilities = [1 if prob > 0.5 else 0 for prob in (y_pred_proba_ensemble[:, 1] if y_pred_proba_ensemble.ndim > 1 else y_pred_proba_ensemble)]\n",
        "\n",
        "# Print test accuracies\n",
        "print(\"Test accuracy (majority voting): \", np.mean(predictions_majority_voting == y_test))\n",
        "print(\"Test accuracy (average probabilities): \", np.mean(predictions_average_probabilities == y_test))\n",
        "print(\"Test accuracy (weighted probabilities): \", np.mean(predictions_weighted_probabilities == y_test))"
      ]
    },
    {
      "cell_type": "markdown",
      "metadata": {
        "id": "9QS9HYJ5FW1T"
      },
      "source": [
        "**Question:** Explain your proposed methods and the reason you decided to use them!"
      ]
    },
    {
      "cell_type": "markdown",
      "metadata": {
        "id": "6hCBQuAeF46a"
      },
      "source": [
        "**Your answer:**"
      ]
    },
    {
      "cell_type": "markdown",
      "metadata": {},
      "source": [
        "<div style=\"color:pink;\">\n",
        "\n",
        "In this code we first split X_train and y_train into 10 equal part and after that train them with 10 different Logistic regression and after that we implement three different ensemble method which I will briefly describe them in below : \n",
        "\n",
        "1. **Majority Voting:** This method involves having each model in the ensemble vote for the class label, and then the class label that gets the majority of votes is chosen as the final prediction. This method is simple and often effective, as it can smooth out individual errors made by each model. However, it assumes that all models are equally good, which may not be the case.\n",
        "\n",
        "2. **Average Probabilities:** This method involves averaging the predicted probabilities of each class for each model, and then choosing the class with the highest average probability as the final prediction. This method can be more effective than majority voting when the models' confidence in their predictions is informative. It also assumes that all models are equally good.\n",
        "\n",
        "3. **Weighted Probabilities:** This method is similar to averaging probabilities, but it assigns more weight to the predictions of some models than others. In this case, the weights are inversely proportional to the model's index, so earlier models have more weight. This method can be more effective when some models are known or expected to be more accurate than others.\n",
        "\n",
        "These methods were chosen because they are simple, intuitive, and often effective ways to combine the predictions of multiple models. They can help to improve prediction accuracy by leveraging the strengths of multiple models and mitigating their weaknesses.\n",
        "\n",
        "</div>"
      ]
    },
    {
      "cell_type": "markdown",
      "metadata": {
        "id": "jjSREvg4FTHf"
      },
      "source": [
        "**Task:** Now, for your best method, change $i$ from 2 to 100 and report $i$, train and test accuracy of the best model. Also, plot test and train accuracy for $2\\leq i\\leq100$."
      ]
    },
    {
      "cell_type": "code",
      "execution_count": 41,
      "metadata": {
        "id": "tfKS-Jq0-v4P"
      },
      "outputs": [
        {
          "name": "stdout",
          "output_type": "stream",
          "text": [
            "Best i: 67\n",
            "Train accuracy of the best model: 0.8172651191359762\n",
            "Test accuracy of the best model: 0.8205548162555021\n"
          ]
        },
        {
          "data": {
            "image/png": "[encoded data removed]",
            "text/plain": [
              "<Figure size 1000x500 with 1 Axes>"
            ]
          },
          "metadata": {},
          "output_type": "display_data"
        }
      ],
      "source": [
        "# Your code goes here!\n",
        "def calculate_accuracy(X, y, models, weights):\n",
        "    # Calculate weighted probabilities\n",
        "    y_pred_proba_ensemble = np.average([model.predict_proba(X) for model in models], axis=0, weights=weights)\n",
        "    \n",
        "    # Determine class based on probability\n",
        "    predictions = [1 if prob > 0.5 else 0 for prob in (y_pred_proba_ensemble[:, 1] if y_pred_proba_ensemble.ndim > 1 else y_pred_proba_ensemble)]\n",
        "    \n",
        "    # Calculate accuracy\n",
        "    accuracy = np.mean(predictions == y)\n",
        "    \n",
        "    return accuracy\n",
        "\n",
        "\n",
        "# Initialize lists to store accuracies\n",
        "train_accuracies = []\n",
        "test_accuracies = []\n",
        "\n",
        "# Iterate over the range of 2 to 100\n",
        "for i in range(2, 101):\n",
        "    # Split X_train into i parts\n",
        "    X_train_parts = np.array_split(X_train, i)\n",
        "    y_train_parts = np.array_split(y_train, i)\n",
        "\n",
        "    # Train i separate Logistic Regression models\n",
        "    models = []\n",
        "    for j in range(i):\n",
        "        model_clone = LogisticRegressionModel()\n",
        "        model_clone.fit(X_train_parts[j], y_train_parts[j].to_numpy())  # convert Series to numpy array\n",
        "        models.append(model_clone)\n",
        "\n",
        "    # Calculate weights\n",
        "    weights = [1 / (j + 1) for j in range(i)]\n",
        "\n",
        "    # Calculate train and test accuracy\n",
        "    train_accuracy = calculate_accuracy(X_train, y_train, models, weights)\n",
        "    test_accuracy = calculate_accuracy(X_test, y_test, models, weights)\n",
        "    \n",
        "    # Store accuracies\n",
        "    train_accuracies.append(train_accuracy)\n",
        "    test_accuracies.append(test_accuracy)\n",
        "\n",
        "# Find the best model\n",
        "best_i = np.argmax(test_accuracies) + 2\n",
        "best_train_accuracy = train_accuracies[best_i - 2]\n",
        "best_test_accuracy = test_accuracies[best_i - 2]\n",
        "\n",
        "print(f\"Best i: {best_i}\")\n",
        "print(f\"Train accuracy of the best model: {best_train_accuracy}\")\n",
        "print(f\"Test accuracy of the best model: {best_test_accuracy}\")\n",
        "\n",
        "\n",
        "\n",
        "\n",
        "# Plot train and test accuracy for each i\n",
        "plt.figure(figsize=(10, 5))\n",
        "plt.plot(range(2, 101), train_accuracies, label='Train Accuracy', marker='o')\n",
        "plt.plot(range(2, 101), test_accuracies, label='Test Accuracy', marker='o')\n",
        "plt.xlabel('i')\n",
        "plt.ylabel('Accuracy')\n",
        "plt.title('Train and Test Accuracy vs. i')\n",
        "plt.legend()\n",
        "plt.grid(True)\n",
        "plt.tight_layout()\n",
        "plt.show()\n"
      ]
    },
    {
      "cell_type": "markdown",
      "metadata": {
        "id": "BWV0YUgRGg1p"
      },
      "source": [
        "**Question:** Analyze the results."
      ]
    },
    {
      "cell_type": "markdown",
      "metadata": {},
      "source": [
        "**Your Answer:** Altering the quantity of sections didn't significantly affect the models' performance."
      ]
    }
  ],
  "metadata": {
    "colab": {
      "provenance": []
    },
    "kernelspec": {
      "display_name": "Python 3",
      "name": "python3"
    },
    "language_info": {
      "codemirror_mode": {
        "name": "ipython",
        "version": 3
      },
      "file_extension": ".py",
      "mimetype": "text/x-python",
      "name": "python",
      "nbconvert_exporter": "python",
      "pygments_lexer": "ipython3",
      "version": "3.12.3"
    }
  },
  "nbformat": 4,
  "nbformat_minor": 0
}
